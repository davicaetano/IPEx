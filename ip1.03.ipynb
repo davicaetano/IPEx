{
 "metadata": {
  "name": "",
  "signature": "sha256:239c34c2bed12deee010ac527ed487ccd1a6415940e1e01786ac9ef2ceed3c4b"
 },
 "nbformat": 3,
 "nbformat_minor": 0,
 "worksheets": [
  {
   "cells": [
    {
     "cell_type": "code",
     "collapsed": false,
     "input": [
      "def gcd(m,n):\n",
      "    while m%n != 0:\n",
      "       oldm = m\n",
      "       oldn = n\n",
      "\n",
      "       m = oldn\n",
      "       n = oldm%oldn\n",
      "    return n\n",
      "\n",
      "class Fraction:\n",
      "    def __init__(self,top,bottom):\n",
      "        self.num = top\n",
      "        self.den = bottom\n",
      "\n",
      "    def __str__(self):\n",
      "        return str(self.num)+\"/\"+str(self.den)\n",
      "\n",
      "    def show(self):\n",
      "        print(self.num,\"/\",self.den)\n",
      "\n",
      "    def __add__(self,otherfraction):\n",
      "        newnum = self.num*otherfraction.den + \\\n",
      "                  self.den*otherfraction.num\n",
      "        newden = self.den * otherfraction.den\n",
      "        common = gcd(newnum,newden)\n",
      "        return Fraction(newnum//common,newden//common)\n",
      "                \n",
      "    def __sub__(self,b):\n",
      "        c = Fraction(-1 * b.getNum(),b.getDen())\n",
      "        return self + c\n",
      "                \n",
      "    def __mul__(self,b):\n",
      "        return Fraction(self.getNum()*b.getNum(),self.getDen()*b.getDen())\n",
      "    \n",
      "    def __div__(self,b):\n",
      "        c = Fraction(b.getDen(),b.getNum())\n",
      "        return (self * c)\n",
      "\n",
      "    def __eq__(self, other):\n",
      "        firstnum = self.num * other.den\n",
      "        secondnum = other.num * self.den\n",
      "        return firstnum == secondnum\n",
      "\n",
      "    \n",
      "                \n",
      "    def getNum(self):\n",
      "        return self.num \n",
      "    \n",
      "    def getDen(self):\n",
      "        return self.den\n",
      "       \n",
      "a = Fraction(2,3)\n",
      "b = Fraction(3,4)\n",
      "c = a - b\n",
      "print(c)\n",
      "d = a * b\n",
      "print(d)\n",
      "e = a / b\n",
      "print(e)\n"
     ],
     "language": "python",
     "metadata": {},
     "outputs": [
      {
       "output_type": "stream",
       "stream": "stdout",
       "text": [
        "-1/12\n",
        "6/12\n",
        "8/9\n"
       ]
      }
     ],
     "prompt_number": 20
    }
   ],
   "metadata": {}
  }
 ]
}