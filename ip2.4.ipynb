{
 "metadata": {
  "name": "",
  "signature": "sha256:01ad90f59de5e727667d8d11e04179d3617d8714ce8677cb0029a3eaaef8e8a7"
 },
 "nbformat": 3,
 "nbformat_minor": 0,
 "worksheets": [
  {
   "cells": [
    {
     "cell_type": "code",
     "collapsed": false,
     "input": [
      "#I prefer use a margeSort function than the sort method of the lists, because it's really O(nlogn)\n",
      "#It's better run this code in a local session of Python\n",
      "#\n",
      "import random\n",
      "import timeit\n",
      "import math\n",
      "\n",
      "def mergeSort(alist):\n",
      "    if len(alist)>1:\n",
      "        mid = len(alist)//2\n",
      "        lefthalf = alist[:mid]\n",
      "        righthalf = alist[mid:]\n",
      "\n",
      "        mergeSort(lefthalf)\n",
      "        mergeSort(righthalf)\n",
      "\n",
      "        i=0\n",
      "        j=0\n",
      "        k=0\n",
      "        while i<len(lefthalf) and j<len(righthalf):\n",
      "            if lefthalf[i]<righthalf[j]:\n",
      "                alist[k]=lefthalf[i]\n",
      "                i=i+1\n",
      "            else:\n",
      "                alist[k]=righthalf[j]\n",
      "                j=j+1\n",
      "            k=k+1\n",
      "\n",
      "        while i<len(lefthalf):\n",
      "            alist[k]=lefthalf[i]\n",
      "            i=i+1\n",
      "            k=k+1\n",
      "\n",
      "        while j<len(righthalf):\n",
      "            alist[k]=righthalf[j]\n",
      "            j=j+1\n",
      "            k=k+1\n",
      "\n",
      "def func(X,k):\n",
      "    for i in range(len(X)):\n",
      "        mergeSort(X[i]) #This is a O(n log(n)) operation\n",
      "        a = X[i][k[i]] #This is a O(n) operation\n",
      "\n",
      "N = []\n",
      "S1 = []\n",
      "S2 = []\n",
      "tempo = []\n",
      "for i in range(10):\n",
      "    n = 20 #The length of the array\n",
      "    m = (i+1) * 1000\n",
      "    X = []\n",
      "    k = []\n",
      "    for j in range(n):\n",
      "        X.append(random.sample(range(m*100),m))\n",
      "        k.append(random.choice(range(m)))\n",
      "    Time1 = timeit.Timer(\"func(X,k)\",\"from __main__ import func,X,k\")\n",
      "\n",
      "    tempo.append(Time1.timeit(number=1))\n",
      "    N.append(m)\n",
      "    S1.append(N[i] * math.log(N[i],2)/tempo[i])\n",
      "    S2.append(N[i]/tempo[i])\n",
      "    print(\"N=\" + str(N[i])+ \";   Time=\" + str(tempo[i]) + \";   N log(N)/Time= \" + str(S1[i]/S1[0])+ \";   N/Time= \" + str(S2[i]/S2[0]))\n"
     ],
     "language": "python",
     "metadata": {},
     "outputs": [
      {
       "output_type": "stream",
       "stream": "stdout",
       "text": [
        "N=1000;   Time=0.112941477847;   N log(N)/Time= 1.0;   N/Time= 1.0\n",
        "N=2000;   Time=0.246256693164;   N log(N)/Time= 1.00930781167;   N/Time= 0.917266259011"
       ]
      },
      {
       "output_type": "stream",
       "stream": "stdout",
       "text": [
        "\n",
        "N=3000;   Time=0.391797054125;   N log(N)/Time= 1.00233324632;   N/Time= 0.864795766007"
       ]
      },
      {
       "output_type": "stream",
       "stream": "stdout",
       "text": [
        "\n",
        "N=4000;   Time=0.558915644894;   N log(N)/Time= 0.970502990762;   N/Time= 0.808289972764"
       ]
      },
      {
       "output_type": "stream",
       "stream": "stdout",
       "text": [
        "\n",
        "N=5000;   Time=0.683991951988;   N log(N)/Time= 1.01796309539;   N/Time= 0.825605312453"
       ]
      },
      {
       "output_type": "stream",
       "stream": "stdout",
       "text": [
        "\n",
        "N=6000;   Time=0.847956037261;   N log(N)/Time= 1.00644365273;   N/Time= 0.79915566056"
       ]
      },
      {
       "output_type": "stream",
       "stream": "stdout",
       "text": [
        "\n",
        "N=7000;   Time=0.98960909831;   N log(N)/Time= 1.02393877574;   N/Time= 0.798891548472"
       ]
      },
      {
       "output_type": "stream",
       "stream": "stdout",
       "text": [
        "\n",
        "N=8000;   Time=1.13698739799;   N log(N)/Time= 1.03389184924;   N/Time= 0.794671800564"
       ]
      },
      {
       "output_type": "stream",
       "stream": "stdout",
       "text": [
        "\n",
        "N=9000;   Time=1.30718413584;   N log(N)/Time= 1.0249466327;   N/Time= 0.777605291216"
       ]
      },
      {
       "output_type": "stream",
       "stream": "stdout",
       "text": [
        "\n",
        "N=10000;   Time=1.48899268889;   N log(N)/Time= 1.01134571213;   N/Time= 0.758509284096"
       ]
      },
      {
       "output_type": "stream",
       "stream": "stdout",
       "text": [
        "\n"
       ]
      }
     ],
     "prompt_number": 3
    }
   ],
   "metadata": {}
  }
 ]
}