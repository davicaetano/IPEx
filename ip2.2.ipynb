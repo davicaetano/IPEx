{
 "metadata": {
  "name": "",
  "signature": "sha256:32574795a12505881d42faaa51bac62ab88edf21617f0265e0b99c971d5d4f02"
 },
 "nbformat": 3,
 "nbformat_minor": 0,
 "worksheets": [
  {
   "cells": [
    {
     "cell_type": "code",
     "collapsed": false,
     "input": [
      "import timeit\n",
      "import random\n",
      "for i in range(100000,1000001,100000):\n",
      "    x = {j:None for j in range(i)}\n",
      "    rnd = random.randrange(i)\n",
      "    timer1 = timeit.Timer(\"x[%d]='Davi'\"%rnd,\"from __main__ import x\")\n",
      "    timer2 = timeit.Timer(\"a = x[%d]\"%rnd,\"from __main__ import a,x\")\n",
      "    print(\"Timer1= \"+str(timer1.timeit(number=10000000))+ \". Timer2= \"+str(timer2.timeit(number=10000000)))"
     ],
     "language": "python",
     "metadata": {},
     "outputs": [
      {
       "output_type": "stream",
       "stream": "stdout",
       "text": [
        "Timer1= 0.811667550672. Timer2= 0.640940619504\n",
        "Timer1= 0.800514310205. Timer2= 0.63658737444"
       ]
      },
      {
       "output_type": "stream",
       "stream": "stdout",
       "text": [
        "\n",
        "Timer1= 0.820860927696. Timer2= 0.64577910935"
       ]
      },
      {
       "output_type": "stream",
       "stream": "stdout",
       "text": [
        "\n",
        "Timer1= 0.807875908705. Timer2= 0.64188442471"
       ]
      },
      {
       "output_type": "stream",
       "stream": "stdout",
       "text": [
        "\n",
        "Timer1= 0.823154550873. Timer2= 0.639984498441"
       ]
      },
      {
       "output_type": "stream",
       "stream": "stdout",
       "text": [
        "\n",
        "Timer1= 0.901720278963. Timer2= 0.665944273208"
       ]
      },
      {
       "output_type": "stream",
       "stream": "stdout",
       "text": [
        "\n",
        "Timer1= 0.830842930123. Timer2= 0.648140469743"
       ]
      },
      {
       "output_type": "stream",
       "stream": "stdout",
       "text": [
        "\n",
        "Timer1= 0.817988869749. Timer2= 0.644081573671"
       ]
      },
      {
       "output_type": "stream",
       "stream": "stdout",
       "text": [
        "\n",
        "Timer1= 0.830223031967. Timer2= 0.644892367617"
       ]
      },
      {
       "output_type": "stream",
       "stream": "stdout",
       "text": [
        "\n",
        "Timer1= 0.810411743745. Timer2= 0.648533345594"
       ]
      },
      {
       "output_type": "stream",
       "stream": "stdout",
       "text": [
        "\n"
       ]
      }
     ],
     "prompt_number": 16
    }
   ],
   "metadata": {}
  }
 ]
}