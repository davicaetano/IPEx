{
 "metadata": {
  "name": "",
  "signature": "sha256:5258d6b6715c3a432eee44a31896d62d1c9ae5fda75b68d1c6e5cee20ea56f03"
 },
 "nbformat": 3,
 "nbformat_minor": 0,
 "worksheets": [
  {
   "cells": [
    {
     "cell_type": "code",
     "collapsed": false,
     "input": [
      "import timeit\n",
      "import random\n",
      "def fun1(x,rnd):\n",
      "    for i in rnd:\n",
      "        del x[i]\n",
      "def fun2(z,rnd):\n",
      "    for i in rnd:\n",
      "        z.remove(i)\n",
      "for i in range(10000,100001,10000):\n",
      "    x = {j:None for j in range(i)}\n",
      "    y = [j for j in range(i)]\n",
      "    rnd1 = []\n",
      "    while len(rnd1)<1000:\n",
      "        novo = random.choice(range(i))\n",
      "        if not(novo in rnd1):\n",
      "            rnd1.append(novo)\n",
      "    timer1 = timeit.Timer(\"fun1(x,rnd1)\",\"from __main__ import fun1,x,rnd1\")\n",
      "    rnd2 = rnd1\n",
      "    timer2 = timeit.Timer(\"fun2(y,rnd2)\",\"from __main__ import fun2,y,rnd2\")\n",
      "    print(\"Timer1= \"+str(timer1.timeit(number=1))+ \". Timer2= \"+str(timer2.timeit(number=1)))"
     ],
     "language": "python",
     "metadata": {},
     "outputs": [
      {
       "output_type": "stream",
       "stream": "stdout",
       "text": [
        "Timer1= 0.000175706241862. Timer2= 0.0867652154266\n",
        "Timer1= 0.000165853547514. Timer2= 0.170397687252"
       ]
      },
      {
       "output_type": "stream",
       "stream": "stdout",
       "text": [
        "\n",
        "Timer1= 0.00017940098769. Timer2= 0.262199267294"
       ]
      },
      {
       "output_type": "stream",
       "stream": "stdout",
       "text": [
        "\n",
        "Timer1= 0.000188022080692. Timer2= 0.336490571804"
       ]
      },
      {
       "output_type": "stream",
       "stream": "stdout",
       "text": [
        "\n",
        "Timer1= 0.000188432619325. Timer2= 0.429084471994"
       ]
      },
      {
       "output_type": "stream",
       "stream": "stdout",
       "text": [
        "\n",
        "Timer1= 0.000188843157957. Timer2= 0.4989038887"
       ]
      },
      {
       "output_type": "stream",
       "stream": "stdout",
       "text": [
        "\n",
        "Timer1= 0.000192127379705. Timer2= 0.596296867996"
       ]
      },
      {
       "output_type": "stream",
       "stream": "stdout",
       "text": [
        "\n",
        "Timer1= 0.000202390598133. Timer2= 0.695633700117"
       ]
      },
      {
       "output_type": "stream",
       "stream": "stdout",
       "text": [
        "\n",
        "Timer1= 0.000195001077373. Timer2= 0.799463357034"
       ]
      },
      {
       "output_type": "stream",
       "stream": "stdout",
       "text": [
        "\n",
        "Timer1= 0.000198695837753. Timer2= 0.889722991735"
       ]
      },
      {
       "output_type": "stream",
       "stream": "stdout",
       "text": [
        "\n"
       ]
      }
     ],
     "prompt_number": 77
    }
   ],
   "metadata": {}
  }
 ]
}