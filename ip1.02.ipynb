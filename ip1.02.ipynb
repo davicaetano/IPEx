{
 "metadata": {
  "name": "",
  "signature": "sha256:a10c9a2693e8d74a02cdc27e2c9fd2452bbe30463a24f124ac5206bc3f47c8da"
 },
 "nbformat": 3,
 "nbformat_minor": 0,
 "worksheets": [
  {
   "cells": [
    {
     "cell_type": "code",
     "collapsed": false,
     "input": [
      "def gcd(m,n):\n",
      "    while m%n != 0:\n",
      "        oldm = m\n",
      "        oldn = n\n",
      "\n",
      "        m = oldn\n",
      "        n = oldm%oldn\n",
      "    return n\n",
      "\n",
      "class Fraction:\n",
      "     def __init__(self,top,bottom):\n",
      "         commom = gcd(top,bottom)\n",
      "         self.num = top//commom\n",
      "         self.den = bottom//commom\n",
      "\n",
      "     def __str__(self):\n",
      "         return str(self.num)+\"/\"+str(self.den)\n",
      "\n",
      "     def show(self):\n",
      "         print(self.num,\"/\",self.den)\n",
      "\n",
      "     def __add__(self,otherfraction):\n",
      "         newnum = self.num*otherfraction.den + self.den*otherfraction.num\n",
      "         newden = self.den * otherfraction.den\n",
      "         return Fraction(newnum,newden)\n",
      "\n",
      "     def __eq__(self, other):\n",
      "         firstnum = self.num * other.den\n",
      "         secondnum = other.num * self.den\n",
      "\n",
      "         return firstnum == secondnum\n",
      "\n",
      "     def getNum(self):\n",
      "         return self.num \n",
      "    \n",
      "     def getDen(self):\n",
      "         return self.den\n",
      "        \n",
      "a = Fraction(2,4)\n",
      "b = Fraction(2,4)\n",
      "c = a + b\n",
      "print(c)"
     ],
     "language": "python",
     "metadata": {},
     "outputs": [
      {
       "output_type": "stream",
       "stream": "stdout",
       "text": [
        "1/1\n"
       ]
      }
     ],
     "prompt_number": 3
    }
   ],
   "metadata": {}
  }
 ]
}