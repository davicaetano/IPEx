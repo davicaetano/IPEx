{
 "metadata": {
  "name": "",
  "signature": "sha256:f9630dafcc985bdd8a366c27c5cd9caa4ec1f614eabf3d2ec3508f499d1312bb"
 },
 "nbformat": 3,
 "nbformat_minor": 0,
 "worksheets": [
  {
   "cells": [
    {
     "cell_type": "code",
     "collapsed": false,
     "input": [
      "def gcd(m,n):\n",
      "    while m%n != 0:\n",
      "        oldm = m\n",
      "        oldn = n\n",
      "\n",
      "        m = oldn\n",
      "        n = oldm%oldn\n",
      "    return n\n",
      "\n",
      "class Fraction:\n",
      "     def __init__(self,top,bottom):\n",
      "         self.num = top\n",
      "         self.den = bottom\n",
      "\n",
      "     def __str__(self):\n",
      "         return str(self.num)+\"/\"+str(self.den)\n",
      "\n",
      "     def show(self):\n",
      "         print(self.num,\"/\",self.den)\n",
      "\n",
      "     def __add__(self,otherfraction):\n",
      "         newnum = self.num*otherfraction.den + \\\n",
      "                      self.den*otherfraction.num\n",
      "         newden = self.den * otherfraction.den\n",
      "         common = gcd(newnum,newden)\n",
      "         return Fraction(newnum//common,newden//common)\n",
      "\n",
      "     def __eq__(self, other):\n",
      "         firstnum = self.num * other.den\n",
      "         secondnum = other.num * self.den\n",
      "\n",
      "         return firstnum == secondnum\n",
      "\n",
      "     def getNum(self):\n",
      "         return self.num \n",
      "    \n",
      "     def getDen(self):\n",
      "         return self.den"
     ],
     "language": "python",
     "metadata": {},
     "outputs": [
      {
       "metadata": {},
       "output_type": "pyout",
       "prompt_number": 7,
       "text": [
        "2"
       ]
      }
     ],
     "prompt_number": 7
    }
   ],
   "metadata": {}
  }
 ]
}