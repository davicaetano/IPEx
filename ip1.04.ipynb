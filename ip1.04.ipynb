{
 "metadata": {
  "name": "",
  "signature": "sha256:2e0d63fd420deee040e9b371bae10e8d8470427f461e33b179cd38d36bfa8ecf"
 },
 "nbformat": 3,
 "nbformat_minor": 0,
 "worksheets": [
  {
   "cells": [
    {
     "cell_type": "code",
     "collapsed": false,
     "input": [
      "def gcd(m,n):\n",
      "    while m%n != 0:\n",
      "       oldm = m\n",
      "       oldn = n\n",
      "\n",
      "       m = oldn\n",
      "       n = oldm%oldn\n",
      "    return n\n",
      "\n",
      "class Fraction:\n",
      "    def __init__(self,top,bottom):\n",
      "        self.num = top\n",
      "        self.den = bottom\n",
      "\n",
      "    def __str__(self):\n",
      "        return str(self.num)+\"/\"+str(self.den)\n",
      "\n",
      "    def show(self):\n",
      "        print(self.num,\"/\",self.den)\n",
      "\n",
      "    def __add__(self,otherfraction):\n",
      "        newnum = self.num*otherfraction.den + \\\n",
      "                  self.den*otherfraction.num\n",
      "        newden = self.den * otherfraction.den\n",
      "        common = gcd(newnum,newden)\n",
      "        return Fraction(newnum//common,newden//common)\n",
      "                \n",
      "    def __sub__(self,b):\n",
      "        c = Fraction(-1 * b.getNum(),b.getDen())\n",
      "        return self + c\n",
      "                \n",
      "    def __mul__(self,b):\n",
      "        return Fraction(self.getNum()*b.getNum(),self.getDen()*b.getDen())\n",
      "    \n",
      "    def __div__(self,b):\n",
      "        c = Fraction(b.getDen(),b.getNum())\n",
      "        return (self * c)\n",
      "\n",
      "    def __eq__(self, other):\n",
      "        firstnum = self.num * other.den\n",
      "        secondnum = other.num * self.den\n",
      "        return firstnum == secondnum\n",
      "\n",
      "    def __gt__(self,b):\n",
      "        return self.getNum() * b.getDen() > b.getNum() * self.getDen()\n",
      "    \n",
      "    def __ge__(self,b):\n",
      "        return self.getNum() * b.getDen() >= b.getNum() * self.getDen()\n",
      "    \n",
      "    def __lt__(self,b):\n",
      "        return self.getNum() * b.getDen() < b.getNum() * self.getDen()\n",
      "    \n",
      "    def __le__(self,b):\n",
      "        return self.getNum() * b.getDen() <= b.getNum() * self.getDen()\n",
      "                \n",
      "    def getNum(self):\n",
      "        return self.num \n",
      "    \n",
      "    def getDen(self):\n",
      "        return self.den\n",
      "       \n",
      "a = Fraction(2,3)\n",
      "b = Fraction(3,4)\n",
      "print(a>b)\n",
      "print(a>=b)\n",
      "print(a<b)\n",
      "print(a<=b)"
     ],
     "language": "python",
     "metadata": {},
     "outputs": [
      {
       "output_type": "stream",
       "stream": "stdout",
       "text": [
        "False\n",
        "False\n",
        "True\n",
        "True\n"
       ]
      }
     ],
     "prompt_number": 2
    }
   ],
   "metadata": {}
  }
 ]
}