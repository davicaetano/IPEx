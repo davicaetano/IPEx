{
 "metadata": {
  "name": "",
  "signature": "sha256:d40c02cd5a1884c39e9c8f50075bcbccf9699d5902487e4c3a960ad25dffca93"
 },
 "nbformat": 3,
 "nbformat_minor": 0,
 "worksheets": [
  {
   "cells": [
    {
     "cell_type": "code",
     "collapsed": false,
     "input": [
      "def gcd(m,n):\n",
      "    while m%n != 0:\n",
      "       oldm = m\n",
      "       oldn = n\n",
      "\n",
      "       m = oldn\n",
      "       n = oldm%oldn\n",
      "    return n\n",
      "\n",
      "class Fraction:\n",
      "    def __init__(self,top,bottom):\n",
      "        if top//1 != top or bottom//1 != bottom:\n",
      "            print (\"Erro. Tha values must be intergers.\")\n",
      "            del self\n",
      "            return            \n",
      "        elif bottom == 0:\n",
      "            print (\"Erro. The denominator must be non-zero.\")\n",
      "            del self\n",
      "            return\n",
      "        elif bottom < 0:\n",
      "            bottom = -1 * bottom\n",
      "            top = -1 * top\n",
      "        self.num = top\n",
      "        self.den = bottom\n",
      "\n",
      "    def __str__(self):\n",
      "        return str(self.num)+\"/\"+str(self.den)\n",
      "\n",
      "    def show(self):\n",
      "        print(self.num,\"/\",self.den)\n",
      "\n",
      "    def __add__(self,otherfraction):\n",
      "        newnum = self.num*otherfraction.den + self.den*otherfraction.num\n",
      "        newden = self.den * otherfraction.den\n",
      "        return Fraction(newnum,newden)\n",
      "    \n",
      "    def __radd__(self,b):\n",
      "        return (Fraction(b,1) + self)\n",
      "                \n",
      "    def __sub__(self,b):\n",
      "        c = Fraction(-1 * b.getNum(),b.getDen())\n",
      "        return self + c\n",
      "                \n",
      "    def __mul__(self,b):\n",
      "        return Fraction(self.getNum()*b.getNum(),self.getDen()*b.getDen())\n",
      "    \n",
      "    def __div__(self,b):\n",
      "        c = Fraction(b.getDen(),b.getNum())\n",
      "        return (self * c)\n",
      "\n",
      "    def __eq__(self, other):\n",
      "        firstnum = self.num * other.den\n",
      "        secondnum = other.num * self.den\n",
      "        return firstnum == secondnum\n",
      "\n",
      "    def __gt__(self,b):\n",
      "        return self.getNum() * b.getDen() > b.getNum() * self.getDen()\n",
      "    \n",
      "    def __ge__(self,b):\n",
      "        return self.getNum() * b.getDen() >= b.getNum() * self.getDen()\n",
      "    \n",
      "    def __lt__(self,b):\n",
      "        return self.getNum() * b.getDen() < b.getNum() * self.getDen()\n",
      "    \n",
      "    def __le__(self,b):\n",
      "        return self.getNum() * b.getDen() <= b.getNum() * self.getDen()\n",
      "                \n",
      "    def getNum(self):\n",
      "        return self.num \n",
      "    \n",
      "    def getDen(self):\n",
      "        return self.den\n",
      "\n",
      "a = Fraction(5,2)\n",
      "b = 1 + a\n",
      "print(b)"
     ],
     "language": "python",
     "metadata": {},
     "outputs": [
      {
       "output_type": "stream",
       "stream": "stdout",
       "text": [
        "7/2\n"
       ]
      }
     ],
     "prompt_number": 17
    }
   ],
   "metadata": {}
  }
 ]
}